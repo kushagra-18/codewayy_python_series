{
 "cells": [
  {
   "cell_type": "code",
   "execution_count": 2,
   "metadata": {},
   "outputs": [
    {
     "name": "stdout",
     "output_type": "stream",
     "text": [
      "Enter integer first number:5\n",
      "Enter integer second number:8\n",
      "Total 13\n",
      "Product 40\n",
      "Division 0.625\n",
      "Enter float first number:11.35\n",
      "Enter float second number:27.68\n",
      "Total 39.03\n",
      "Product 314.168\n",
      "Division 0.41004335260115604\n"
     ]
    }
   ],
   "source": [
    "#Question 1\n",
    "#Integer\n",
    "n1=int(input(\"Enter integer first number:\"))\n",
    "n2=int(input(\"Enter integer second number:\"))\n",
    "print(\"Total\",n1+n2)\n",
    "print(\"Product\",n1*n2)\n",
    "print(\"Division\",n1/n2)\n",
    "\n",
    "#Float\n",
    "n1=float(input(\"Enter float first number:\"))\n",
    "n2=float(input(\"Enter float second number:\"))\n",
    "print(\"Total\",n1+n2)\n",
    "print(\"Product\",n1*n2)\n",
    "print(\"Division\",n1/n2)\n"
   ]
  },
  {
   "cell_type": "code",
   "execution_count": 1,
   "metadata": {},
   "outputs": [
    {
     "name": "stdout",
     "output_type": "stream",
     "text": [
      "Enter First Name:Kushagra\n",
      "Enter Last Name:Sharma\n",
      "Enter your college name:Northcap University\n",
      "Enter your college address:Sec-23A, Gurugram\n",
      "Enter marks of Subject 1:85.5\n",
      "Enter marks of Subject 2:92.5\n",
      "Enter marks of Subject 3:87.5\n",
      "Enter marks of Subject 4:69.5\n",
      "Enter marks of Subject 5:80.5\n",
      "Your name Kushagra Sharma\n",
      "College name: Northcap University  Address: Sec-23A, Gurugram\n",
      "Total Marks: 415.5 Percentage 83.1 %\n"
     ]
    }
   ],
   "source": [
    "#Question 2\n",
    "#Information\n",
    "fname=input(\"Enter First Name:\")\n",
    "lname=input(\"Enter Last Name:\")\n",
    "cname=input(\"Enter your college name:\")\n",
    "cadd=input(\"Enter your college address:\")\n",
    "#Marks\n",
    "mark1=float(input(\"Enter marks of Subject 1:\"))\n",
    "mark2=float(input(\"Enter marks of Subject 2:\"))\n",
    "mark3=float(input(\"Enter marks of Subject 3:\"))\n",
    "mark4=float(input(\"Enter marks of Subject 4:\"))\n",
    "mark5=float(input(\"Enter marks of Subject 5:\"))\n",
    "#Calculation\n",
    "tot=mark1+mark2+mark3+mark4+mark5\n",
    "per=(tot/5)\n",
    "#Output\n",
    "print(\"Your name\",fname,lname)\n",
    "print(\"College name:\",cname,\" Address:\",cadd)\n",
    "print(\"Total Marks:\",tot,\"Percentage\",per,\"%\")"
   ]
  },
  {
   "cell_type": "code",
   "execution_count": null,
   "metadata": {},
   "outputs": [],
   "source": []
  }
 ],
 "metadata": {
  "kernelspec": {
   "display_name": "Python 3",
   "language": "python",
   "name": "python3"
  },
  "language_info": {
   "codemirror_mode": {
    "name": "ipython",
    "version": 3
   },
   "file_extension": ".py",
   "mimetype": "text/x-python",
   "name": "python",
   "nbconvert_exporter": "python",
   "pygments_lexer": "ipython3",
   "version": "3.7.3"
  }
 },
 "nbformat": 4,
 "nbformat_minor": 2
}
